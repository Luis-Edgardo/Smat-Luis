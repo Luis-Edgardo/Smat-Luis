{
 "cells": [
  {
   "cell_type": "markdown",
   "id": "7471ece9-c0bc-4a8b-90d4-95f39125af0b",
   "metadata": {},
   "source": [
    "# T01 MARKDOWN LUIS EDGARDO ORDOÑEZ ALVAREZ 12/08/2024"
   ]
  },
  {
   "cell_type": "code",
   "execution_count": null,
   "id": "491b7bfd-54e8-4f2e-ace9-9ea678928497",
   "metadata": {},
   "outputs": [],
   "source": []
  },
  {
   "cell_type": "markdown",
   "id": "ff65dbc4-5dc1-48f1-8631-887c10420eff",
   "metadata": {},
   "source": [
    "1.- Uso apropiado de títulos y subtítulos"
   ]
  },
  {
   "cell_type": "markdown",
   "id": "5829aafe-e95c-4bf2-a824-4600c588ca5b",
   "metadata": {},
   "source": [
    "# TIULO\n",
    "Texto\n",
    "# SUBTITULO\n",
    "Texto"
   ]
  },
  {
   "cell_type": "markdown",
   "id": "73e519b1-9617-49fd-82d1-408d70c2c3b4",
   "metadata": {},
   "source": [
    "2.- Párrafos separados coherentemente"
   ]
  },
  {
   "cell_type": "markdown",
   "id": "16295e66-9a30-4291-9729-8841c03e0ebf",
   "metadata": {},
   "source": [
    "Texto 1\n",
    "\n",
    "Texto 2\n",
    "\n",
    "Texto 3"
   ]
  },
  {
   "cell_type": "markdown",
   "id": "d6d61c64-fec8-43da-9a1d-2746626c5710",
   "metadata": {},
   "source": [
    "3.- Uso de negritas, cursiva y subrayado"
   ]
  },
  {
   "cell_type": "markdown",
   "id": "28dab67c-ee01-438d-920e-882653126e13",
   "metadata": {},
   "source": [
    "**Negritas**\n",
    "\n",
    "*Cursiva*\n",
    "\n",
    "<u>Subrayado"
   ]
  },
  {
   "cell_type": "markdown",
   "id": "a661d461-8315-42bc-86e0-5175652aa692",
   "metadata": {},
   "source": [
    "4.- Una imagen"
   ]
  },
  {
   "cell_type": "markdown",
   "id": "8bdc29ca-8215-47b0-8c5d-317c83792e74",
   "metadata": {},
   "source": [
    "![](https://imgs.search.brave.com/IodsNI7IMEIavnMOMedH4Q-a7GMnzaW1aYRLAe0hJXw/rs:fit:860:0:0:0/g:ce/aHR0cHM6Ly9odHRw/Mi5tbHN0YXRpYy5j/b20vRF9OUV9OUF84/NTIzNDQtTUxNNTA0/NDg0MzA1ODNfMDYy/MDIyLVcud2VicA)"
   ]
  },
  {
   "cell_type": "markdown",
   "id": "78b35003-ea60-4e70-88eb-11d54c20c809",
   "metadata": {},
   "source": [
    "5.- Una lista ordenada y una de viñetas"
   ]
  },
  {
   "cell_type": "markdown",
   "id": "812bf888-3ae6-4dd3-b585-174511429008",
   "metadata": {},
   "source": [
    "Lista ordenada\n",
    "1. Texto1\n",
    "2. Texto2\n",
    "3. Texto3\n",
    "4. Texto4\n",
    "5. Texto5\n",
    "6. Texto6\n",
    "\n",
    "Lista de viñetas\n",
    "* Objeto 1\n",
    "  * Sub-objeto1\n",
    "  * Sub-objeto2\n",
    "* Objeto 2\n",
    "  * Sub-objeto3\n",
    "* Objeto 3\n",
    "* Objeto 4\n",
    "* Objeto 5"
   ]
  },
  {
   "cell_type": "markdown",
   "id": "83fab35a-4a89-4ddf-beb3-044617c3aa63",
   "metadata": {},
   "source": [
    "6.- Una ecuación utilizando el editor de ecuaciones"
   ]
  },
  {
   "cell_type": "markdown",
   "id": "c9c66023-8f9c-40df-8249-ff586432a90c",
   "metadata": {},
   "source": [
    "$$ \\frac{x^2+\\sqrt{y}}{e^{x^2+2x+4}} $$"
   ]
  },
  {
   "cell_type": "code",
   "execution_count": null,
   "id": "545515c0-e753-4d52-a1e8-5cd0809994b3",
   "metadata": {},
   "outputs": [],
   "source": []
  }
 ],
 "metadata": {
  "kernelspec": {
   "display_name": "Python 3 (ipykernel)",
   "language": "python",
   "name": "python3"
  },
  "language_info": {
   "codemirror_mode": {
    "name": "ipython",
    "version": 3
   },
   "file_extension": ".py",
   "mimetype": "text/x-python",
   "name": "python",
   "nbconvert_exporter": "python",
   "pygments_lexer": "ipython3",
   "version": "3.12.4"
  }
 },
 "nbformat": 4,
 "nbformat_minor": 5
}
