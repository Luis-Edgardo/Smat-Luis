{
 "cells": [
  {
   "cell_type": "markdown",
   "id": "14f9c8ad-7a80-48b0-8455-36afb4966db5",
   "metadata": {},
   "source": [
    "# Programacion lineal \n",
    "## Luis Edgardo Ordoñez Alvarez Expt.751856  05/09/2024"
   ]
  },
  {
   "cell_type": "markdown",
   "id": "6daf104e-be9d-4c5d-ab8c-154bd13a740c",
   "metadata": {},
   "source": [
    "### Ejercicio 1\r\n",
    "\r\n",
    "Se quiere producir comida para gatos de la manera más barata, no obstante se debe también asegurar que se cumplan los datos requeridos de analisis nutricional. Por lo que se quiere variar la cantidad de cada ingrediente para cumplir con los estandares nutricionales. Los requisitos que se tienen es que en 100 gramos, se deben tener por lo menos 9 gramos de proteína y  7 gramos de grasa. Así mismo, no se debe tener más de 2.5 gramos de fibra y 0.5 gramos de sal."
   ]
  },
  {
   "cell_type": "markdown",
   "id": "acfd1b75-332a-4607-a110-a02e22f81936",
   "metadata": {},
   "source": [
    "![](Costostabla.png)"
   ]
  },
  {
   "cell_type": "markdown",
   "id": "359e50a0-c395-4df4-b219-48d612f5e03c",
   "metadata": {},
   "source": [
    "1.- minimizar costo total\n",
    "\n",
    "Lo que se busca optimizar en este caso es la cantidad de productos que se debe utilizar en la comida de gato, minimizando el costo total en minimo 100 gramos de alimento."
   ]
  },
  {
   "cell_type": "markdown",
   "id": "488c4129-eea9-431c-a60f-cf8b083da486",
   "metadata": {},
   "source": [
    "2.- Definir variables\n",
    "- x1 = Pollo\n",
    "- x2 = Carne\n",
    "- x3 = Cordero\n",
    "- x4 = Arroz\n",
    "- x5 = Trigo\n",
    "- x6 = Gel\n"
   ]
  },
  {
   "cell_type": "markdown",
   "id": "26b27958-8940-4a86-8610-7f35d5b87753",
   "metadata": {},
   "source": [
    "3.- Las variables de control seran:\n",
    "\n",
    "(x1, x2, x3, x4, x5, x6)= 0.012x1 +0.009x2 + 0.010x3 + 0.003x4 + 0.005x5 + 0.005x6\n",
    "    "
   ]
  },
  {
   "cell_type": "markdown",
   "id": "e9591c82-1e66-4638-af48-4c65489924cc",
   "metadata": {},
   "source": [
    "4.- Informacion adicional\n",
    "\n",
    "######  Se debe tener\n",
    "- al menos 9 gramos de proteina\n",
    "- al menos 7 gramos de grasa\n",
    "- menos de 2.5 gramos de fibra\n",
    "- menos de 0.5 gramos de sal\n",
    "\n",
    "El pollo tiene:\n",
    "- 10% de proteína\n",
    "- 8% de grasa\n",
    "- 0.1% de fibra\n",
    "- 0.2% de sal\n",
    "\n",
    "La carne tiene:\n",
    "- 20% de proteína\n",
    "- 10% de grasa\n",
    "- 0.5% de fibra\n",
    "- 0.5% de sal\n",
    "\n",
    "El cordero tiene:\n",
    "- 15% de proteína\n",
    "- 11% de grasa\n",
    "- 0.5% de fibra\n",
    "- 0.7% de sal\n",
    "\n",
    "El arroz tiene:\n",
    "- 0% de proteína\n",
    "- 1% de grasa\n",
    "- 10% de fibra\n",
    "- 0.2% de sal\n",
    "\n",
    "El trigo tiene:\n",
    "- 4% de proteína\n",
    "- 1% de grasa\n",
    "- 15% de fibra\n",
    "- 0.8% de sal\n",
    "\n",
    "El gel tiene:\n",
    "- 0% de proteína\n",
    "- 0% de grasa\n",
    "- 0% de fibra\n",
    "- 0% de sal\n",
    "\n",
    "la lata debe tener 100 gramos de comida\n"
   ]
  },
  {
   "cell_type": "markdown",
   "id": "8b06ed8c-1d61-4002-a38e-db233223b9dc",
   "metadata": {},
   "source": [
    "### Ejercicio 2\r\n",
    "\r\n",
    "La Comisión Federal de Electricidad (CFE) dispone de cuatro plantas de generación para satisfacer la demanda diaria eléctrica en cuatro ciudades, Guadalajara, León y Morelia. Las plantas 1, 2 y 3 pueden satisfacer 75, 50 y 60 millones de kW al día respectivamente. Las necesidades de las ciudades de Guadalajara, León y Morelia son de 60, 45 y 60 millones de Kw al día respectivamente.\r\n",
    "\r\n",
    "Los costos asociados al envío de suministro energético por cada millón de kW entre cada planta y cada ciudad son los registrados en la siguiente tabla."
   ]
  },
  {
   "cell_type": "markdown",
   "id": "489d84a3-cd20-4d5c-b2db-1db224f53f37",
   "metadata": {},
   "source": [
    "![](Morelia.Png)"
   ]
  },
  {
   "cell_type": "code",
   "execution_count": null,
   "id": "6cda820b-afdc-4f6c-9eab-e634c0fdb818",
   "metadata": {},
   "outputs": [],
   "source": []
  }
 ],
 "metadata": {
  "kernelspec": {
   "display_name": "Python 3 (ipykernel)",
   "language": "python",
   "name": "python3"
  },
  "language_info": {
   "codemirror_mode": {
    "name": "ipython",
    "version": 3
   },
   "file_extension": ".py",
   "mimetype": "text/x-python",
   "name": "python",
   "nbconvert_exporter": "python",
   "pygments_lexer": "ipython3",
   "version": "3.12.4"
  }
 },
 "nbformat": 4,
 "nbformat_minor": 5
}
