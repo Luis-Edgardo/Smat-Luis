{
 "cells": [
  {
   "cell_type": "markdown",
   "id": "f68252f8-f14a-441a-9c21-b263994a40bc",
   "metadata": {},
   "source": [
    "# PROGRAMACION LINEAL\n",
    "\n",
    "### Luis Edgardo Ordoñez Alvarez   Expdt.751856"
   ]
  },
  {
   "cell_type": "markdown",
   "id": "ad6d8018-6f85-49f5-894d-829c63f7d5c1",
   "metadata": {},
   "source": [
    "![](Ejercicio1A06.png)"
   ]
  },
  {
   "cell_type": "markdown",
   "id": "3b78f8cf-56cf-4051-a4cb-408a39a61caf",
   "metadata": {},
   "source": [
    "1. El problema nos requierre maximizar su ganancia\n",
    "2. Establecemos variables\n",
    "\n",
    "- mt: Cantidad de Mesas \n",
    "- mM: Cantidad de Mesas \n",
    "- st: Cantidad de Sillas en determinado tiempo\n",
    "- sM: Cantidad de Sillas con determinado material\n",
    "- lt: Cantidad de Libreros en determinado tiempo\n",
    "- lM: Cantidad de Libreros con determinado mineral\n",
    "- bt: Cantidad de Bases de cama en determinado tiempo\n",
    "- bM: Cantidad de Bases de cama en determinado tiempo\n",
    "\n",
    "3. 3mt + 6mm + st + 2sm + 4lt + 5lm + 3bt + 5bm\n",
    "4.\n",
    "   - A = 0.5 t+ 0.8M\n",
    "   - m == 9000\n",
    "   - s == 3000\n",
    "   - l == 10000\n",
    "   - b == 9000\n",
    "   - t == 40\n",
    "   - M == 100\n",
    "\n",
    "Por lo tanto\n",
    "- mt + mM == 9000\n",
    "- st + sM == 3000\n",
    "- lt + lM == 10000\n",
    "- bt + bM == 9000\n",
    "    \n",
    "    \n",
    "    "
   ]
  },
  {
   "cell_type": "markdown",
   "id": "03ba5681-010d-444b-a0cc-76c23572fc16",
   "metadata": {},
   "source": []
  },
  {
   "cell_type": "markdown",
   "id": "1c837c76-8525-4d55-a8b6-85121ecc5d59",
   "metadata": {},
   "source": [
    "![](Ejercicio2A06.png)"
   ]
  },
  {
   "cell_type": "code",
   "execution_count": null,
   "id": "4235931b-3770-4929-9b4f-ff1a7a07e76c",
   "metadata": {},
   "outputs": [],
   "source": []
  }
 ],
 "metadata": {
  "kernelspec": {
   "display_name": "Python 3 (ipykernel)",
   "language": "python",
   "name": "python3"
  },
  "language_info": {
   "codemirror_mode": {
    "name": "ipython",
    "version": 3
   },
   "file_extension": ".py",
   "mimetype": "text/x-python",
   "name": "python",
   "nbconvert_exporter": "python",
   "pygments_lexer": "ipython3",
   "version": "3.12.4"
  }
 },
 "nbformat": 4,
 "nbformat_minor": 5
}
