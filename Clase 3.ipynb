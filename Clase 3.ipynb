{
 "cells": [
  {
   "cell_type": "markdown",
   "id": "0917fecc-dbaf-498c-81dd-bad31913bae7",
   "metadata": {},
   "source": [
    "# Clase 3 - Semana 2\n"
   ]
  },
  {
   "cell_type": "markdown",
   "id": "fa788418-78b6-4687-a422-fb0255b9225a",
   "metadata": {},
   "source": [
    "19 de Agosto de 2024"
   ]
  },
  {
   "cell_type": "markdown",
   "id": "a25dbc99-485e-458e-92af-5e4f71f768ff",
   "metadata": {},
   "source": [
    "Luis Edgardo Ordoñez Alvarez"
   ]
  },
  {
   "cell_type": "markdown",
   "id": "32f8d74a-14e4-497d-9d6a-1bc9a3927312",
   "metadata": {},
   "source": [
    "# Listas\n"
   ]
  },
  {
   "cell_type": "code",
   "execution_count": 18,
   "id": "9a722400-803c-4925-8e3a-de6b34237d2e",
   "metadata": {},
   "outputs": [
    {
     "data": {
      "text/plain": [
       "['Fraire', 'Parra', 'Rivas', 'Alcaraz', 'Minakata']"
      ]
     },
     "execution_count": 18,
     "metadata": {},
     "output_type": "execute_result"
    }
   ],
   "source": [
    "alumnos = [\"Fraire\",\"Parra\",\"Rivas\",\"Alcaraz\",\"Minakata\"]\n",
    "type(alumnos)\n",
    "alumnos"
   ]
  },
  {
   "cell_type": "code",
   "execution_count": 20,
   "id": "7f4c82eb-f35f-48fb-bdc6-76d301f7b53e",
   "metadata": {},
   "outputs": [
    {
     "data": {
      "text/plain": [
       "['Fraire', 'Parra', 'Rivas', 'Alcaraz', 'Minakata', 'Alvarez']"
      ]
     },
     "execution_count": 20,
     "metadata": {},
     "output_type": "execute_result"
    }
   ],
   "source": [
    "alumnos.append(\"Alvarez\")\n",
    "alumnos"
   ]
  },
  {
   "cell_type": "code",
   "execution_count": 24,
   "id": "690fe907-fd67-44f6-a4e5-1ba7d66337bb",
   "metadata": {},
   "outputs": [
    {
     "data": {
      "text/plain": [
       "'Alvarez'"
      ]
     },
     "execution_count": 24,
     "metadata": {},
     "output_type": "execute_result"
    }
   ],
   "source": [
    "alumnos[5]"
   ]
  },
  {
   "cell_type": "code",
   "execution_count": 26,
   "id": "3138c046-b25e-4f27-bfee-9a74a9d544ef",
   "metadata": {},
   "outputs": [
    {
     "data": {
      "text/plain": [
       "'Alvarez'"
      ]
     },
     "execution_count": 26,
     "metadata": {},
     "output_type": "execute_result"
    }
   ],
   "source": [
    "alumnos[-1]"
   ]
  },
  {
   "cell_type": "code",
   "execution_count": 28,
   "id": "04938f6c-1bcc-4e9b-aaa5-81fb2f250227",
   "metadata": {},
   "outputs": [
    {
     "data": {
      "text/plain": [
       "\u001b[1;31mSignature:\u001b[0m \u001b[0malumnos\u001b[0m\u001b[1;33m.\u001b[0m\u001b[0minsert\u001b[0m\u001b[1;33m(\u001b[0m\u001b[0mindex\u001b[0m\u001b[1;33m,\u001b[0m \u001b[0mobject\u001b[0m\u001b[1;33m,\u001b[0m \u001b[1;33m/\u001b[0m\u001b[1;33m)\u001b[0m\u001b[1;33m\u001b[0m\u001b[1;33m\u001b[0m\u001b[0m\n",
       "\u001b[1;31mDocstring:\u001b[0m Insert object before index.\n",
       "\u001b[1;31mType:\u001b[0m      builtin_function_or_method"
      ]
     },
     "metadata": {},
     "output_type": "display_data"
    }
   ],
   "source": [
    "alumnos.insert?\n"
   ]
  },
  {
   "cell_type": "code",
   "execution_count": 32,
   "id": "79fcef7a-3d33-49af-b4bc-3cc7f675e515",
   "metadata": {},
   "outputs": [],
   "source": [
    "alumnos.insert(3, \"Ordoñez\")"
   ]
  },
  {
   "cell_type": "code",
   "execution_count": 34,
   "id": "9731fb4d-3351-47c0-b30b-b7683f3560de",
   "metadata": {},
   "outputs": [
    {
     "data": {
      "text/plain": [
       "['Fraire',\n",
       " 'Parra',\n",
       " 'Rivas',\n",
       " 'Ordoñez',\n",
       " 'Ordoñez',\n",
       " 'Alcaraz',\n",
       " 'Minakata',\n",
       " 'Alvarez']"
      ]
     },
     "execution_count": 34,
     "metadata": {},
     "output_type": "execute_result"
    }
   ],
   "source": [
    "alumnos"
   ]
  },
  {
   "cell_type": "code",
   "execution_count": 36,
   "id": "0508c920-2301-4752-b72a-51089422d3d6",
   "metadata": {},
   "outputs": [],
   "source": [
    "alumnos.remove(\"Ordoñez\")"
   ]
  },
  {
   "cell_type": "code",
   "execution_count": 38,
   "id": "56a51023-1cc0-40ae-8be5-7ccfde73f577",
   "metadata": {},
   "outputs": [
    {
     "data": {
      "text/plain": [
       "['Fraire', 'Parra', 'Rivas', 'Ordoñez', 'Alcaraz', 'Minakata', 'Alvarez']"
      ]
     },
     "execution_count": 38,
     "metadata": {},
     "output_type": "execute_result"
    }
   ],
   "source": [
    "alumnos"
   ]
  },
  {
   "cell_type": "code",
   "execution_count": 40,
   "id": "a0f002fa-8dec-4663-97d2-216680aa0eed",
   "metadata": {},
   "outputs": [],
   "source": [
    "# el pop si no ponemos nada elimina el ultimo valor de la lista"
   ]
  },
  {
   "cell_type": "code",
   "execution_count": 42,
   "id": "90a3f4b8-222e-47fd-933c-a4f08f8e0c01",
   "metadata": {},
   "outputs": [
    {
     "data": {
      "text/plain": [
       "'Alvarez'"
      ]
     },
     "execution_count": 42,
     "metadata": {},
     "output_type": "execute_result"
    }
   ],
   "source": [
    "alumnos.pop()\n"
   ]
  },
  {
   "cell_type": "code",
   "execution_count": 44,
   "id": "06170f9f-0fb7-4d90-bab3-9b7b1178ee95",
   "metadata": {},
   "outputs": [
    {
     "data": {
      "text/plain": [
       "['Fraire', 'Parra', 'Rivas', 'Ordoñez', 'Alcaraz', 'Minakata']"
      ]
     },
     "execution_count": 44,
     "metadata": {},
     "output_type": "execute_result"
    }
   ],
   "source": [
    "alumnos\n"
   ]
  },
  {
   "cell_type": "code",
   "execution_count": 46,
   "id": "143b879e-181d-40ee-9036-3948e21daf80",
   "metadata": {},
   "outputs": [
    {
     "data": {
      "text/plain": [
       "'Rivas'"
      ]
     },
     "execution_count": 46,
     "metadata": {},
     "output_type": "execute_result"
    }
   ],
   "source": [
    "alumnos.pop(2)"
   ]
  },
  {
   "cell_type": "code",
   "execution_count": 48,
   "id": "7a8c062f-88fd-46bb-baba-109643e566a5",
   "metadata": {},
   "outputs": [
    {
     "data": {
      "text/plain": [
       "['Fraire', 'Parra', 'Ordoñez', 'Alcaraz', 'Minakata']"
      ]
     },
     "execution_count": 48,
     "metadata": {},
     "output_type": "execute_result"
    }
   ],
   "source": [
    "alumnos"
   ]
  },
  {
   "cell_type": "code",
   "execution_count": 50,
   "id": "17b6e7a4-3b09-4be9-a89a-ced2424c1de9",
   "metadata": {},
   "outputs": [
    {
     "data": {
      "text/plain": [
       "['Morales', True, 3.144984654984, 8]"
      ]
     },
     "execution_count": 50,
     "metadata": {},
     "output_type": "execute_result"
    }
   ],
   "source": [
    "lista1 = [\"Morales\", True, 3.144984654984, 8]\n",
    "lista1"
   ]
  },
  {
   "cell_type": "code",
   "execution_count": 52,
   "id": "a05b42f5-51df-4584-8252-1cc6558bb74a",
   "metadata": {},
   "outputs": [
    {
     "data": {
      "text/plain": [
       "['abc', ['Morales', True, 3.144984654984, 8]]"
      ]
     },
     "execution_count": 52,
     "metadata": {},
     "output_type": "execute_result"
    }
   ],
   "source": [
    "lista2 = [\"abc\", lista1]\n",
    "lista2"
   ]
  },
  {
   "cell_type": "code",
   "execution_count": 54,
   "id": "3ced8c58-83b6-48e3-8c5a-75f0ba6c1a9c",
   "metadata": {},
   "outputs": [],
   "source": [
    "lista = [88, 34, 71, 7, 5, 223, 1]"
   ]
  },
  {
   "cell_type": "code",
   "execution_count": 56,
   "id": "fcbf4bdb-2ead-4058-8668-06ad99dda870",
   "metadata": {},
   "outputs": [
    {
     "data": {
      "text/plain": [
       "88"
      ]
     },
     "execution_count": 56,
     "metadata": {},
     "output_type": "execute_result"
    }
   ],
   "source": [
    "lista[0]"
   ]
  },
  {
   "cell_type": "code",
   "execution_count": 58,
   "id": "7ddfd966-98ca-481b-ab75-3e6102cc3fb5",
   "metadata": {},
   "outputs": [
    {
     "data": {
      "text/plain": [
       "34"
      ]
     },
     "execution_count": 58,
     "metadata": {},
     "output_type": "execute_result"
    }
   ],
   "source": [
    "lista[1]"
   ]
  },
  {
   "cell_type": "code",
   "execution_count": 60,
   "id": "b178d695-9dca-4671-9c0e-cb8aebb9d136",
   "metadata": {},
   "outputs": [
    {
     "name": "stdout",
     "output_type": "stream",
     "text": [
      "88\n",
      "34\n",
      "71\n",
      "7\n",
      "5\n",
      "223\n",
      "1\n"
     ]
    }
   ],
   "source": [
    "i = 0\n",
    "while i < len(lista) :\n",
    "    print(lista[i])\n",
    "    i += 1"
   ]
  },
  {
   "cell_type": "code",
   "execution_count": 62,
   "id": "62bab96d-3fc9-482e-8f62-04414fa49783",
   "metadata": {},
   "outputs": [
    {
     "name": "stdout",
     "output_type": "stream",
     "text": [
      "88\n",
      "34\n",
      "71\n",
      "7\n",
      "5\n",
      "223\n",
      "1\n"
     ]
    }
   ],
   "source": [
    "for elemento in lista :\n",
    "    print(elemento)"
   ]
  },
  {
   "cell_type": "markdown",
   "id": "451c56d9-69ae-4bd1-bd74-b308bd6fcfc3",
   "metadata": {},
   "source": [
    "# Funciones"
   ]
  },
  {
   "cell_type": "code",
   "execution_count": 77,
   "id": "70eeb2a7-592e-479e-b259-5c9cf06f47d5",
   "metadata": {},
   "outputs": [],
   "source": [
    "def funcion1() :\n",
    "    print(\"Hola\")"
   ]
  },
  {
   "cell_type": "code",
   "execution_count": 79,
   "id": "16711987-e794-4ee9-ad20-1fc6f0785b5b",
   "metadata": {},
   "outputs": [
    {
     "name": "stdout",
     "output_type": "stream",
     "text": [
      "Hola\n"
     ]
    }
   ],
   "source": [
    "funcion1()"
   ]
  },
  {
   "cell_type": "code",
   "execution_count": 81,
   "id": "a1d09133-e146-4d99-bd45-316ff5a44e62",
   "metadata": {},
   "outputs": [],
   "source": [
    "def suma(a, b) :\n",
    "    resultado = a + b\n",
    "    return resultado"
   ]
  },
  {
   "cell_type": "code",
   "execution_count": 83,
   "id": "3f0fa8eb-604a-4690-bbde-fe3e2022e851",
   "metadata": {},
   "outputs": [
    {
     "data": {
      "text/plain": [
       "8"
      ]
     },
     "execution_count": 83,
     "metadata": {},
     "output_type": "execute_result"
    }
   ],
   "source": [
    "suma(5, 3)"
   ]
  },
  {
   "cell_type": "code",
   "execution_count": 85,
   "id": "942200b5-51fa-4e3f-adaf-754fde282f10",
   "metadata": {},
   "outputs": [],
   "source": [
    "def multiplicacion(a , b):\n",
    "    resultado = a*b\n",
    "    return resultado"
   ]
  },
  {
   "cell_type": "code",
   "execution_count": 87,
   "id": "db5d7e70-7dd8-46ea-87a7-3ff4aaa37a2e",
   "metadata": {},
   "outputs": [
    {
     "data": {
      "text/plain": [
       "30"
      ]
     },
     "execution_count": 87,
     "metadata": {},
     "output_type": "execute_result"
    }
   ],
   "source": [
    "multiplicacion(5 , 6)"
   ]
  },
  {
   "cell_type": "code",
   "execution_count": 89,
   "id": "fd6cc22a-e954-4b6d-9839-d55834475024",
   "metadata": {},
   "outputs": [
    {
     "data": {
      "text/plain": [
       "120"
      ]
     },
     "execution_count": 89,
     "metadata": {},
     "output_type": "execute_result"
    }
   ],
   "source": [
    "def factorial(a) :\n",
    "    i = 1\n",
    "    acc = 1\n",
    "    while i <= a :\n",
    "        acc = acc*i\n",
    "        i += 1\n",
    "    return acc\n",
    "factorial(5)"
   ]
  },
  {
   "cell_type": "code",
   "execution_count": 93,
   "id": "83b372d7-dc12-4480-81e2-0f29571ec13d",
   "metadata": {},
   "outputs": [
    {
     "data": {
      "text/plain": [
       "list"
      ]
     },
     "execution_count": 93,
     "metadata": {},
     "output_type": "execute_result"
    }
   ],
   "source": [
    "lista = [2, 4, 7, 10, 8]\n",
    "type(lista)"
   ]
  },
  {
   "cell_type": "code",
   "execution_count": 95,
   "id": "43afd2dd-4beb-4a2d-9f64-1e0fc482c5e1",
   "metadata": {},
   "outputs": [
    {
     "name": "stdout",
     "output_type": "stream",
     "text": [
      "2\n",
      "24\n",
      "5040\n",
      "3628800\n",
      "40320\n"
     ]
    }
   ],
   "source": [
    "for elemento in lista :\n",
    "    print(factorial(elemento))"
   ]
  },
  {
   "cell_type": "code",
   "execution_count": 99,
   "id": "6fc3f398-7b26-43f2-9843-60243ec80f98",
   "metadata": {},
   "outputs": [
    {
     "name": "stdout",
     "output_type": "stream",
     "text": [
      "4\n",
      "3\n",
      "5\n"
     ]
    }
   ],
   "source": [
    "def funcion(a, b, c=5): # Son valores por defecto, si no pongo un valor en c no importa ya que asume que ese valore es 5 pero si puedo poner valor en c\n",
    "    print(a)\n",
    "    print(b)\n",
    "    print(c)\n",
    "\n",
    "funcion(4, 3)"
   ]
  },
  {
   "cell_type": "markdown",
   "id": "0bf6e248-cf35-4e6f-a57e-cd2924e9480f",
   "metadata": {},
   "source": [
    "## Actividad"
   ]
  },
  {
   "cell_type": "markdown",
   "id": "b72d25fc-6714-48d4-828f-484c12dbb00d",
   "metadata": {},
   "source": [
    "1. Pasar a funcion el codigo de encontrar un numero primo\n",
    "$$ es primo(a) $$"
   ]
  },
  {
   "cell_type": "markdown",
   "id": "8710e88b-cd8a-4ce0-8a76-73e0d6d0eada",
   "metadata": {},
   "source": [
    "2. Crear una funcion que ingrese un número a y que encuentre el numero primo mas cercano\n",
    "$$ 0<=a<=100 $$"
   ]
  },
  {
   "cell_type": "markdown",
   "id": "e732a4ec-dea5-4838-a081-98d9c515ad33",
   "metadata": {},
   "source": [
    "3. Pasar a función el código de encontrar factorial de los siguientes números:\n",
    "* 4\n",
    "* 7\n",
    "* 5\n",
    "* 8\n",
    "* 9\n",
    "* 3"
   ]
  },
  {
   "cell_type": "markdown",
   "id": "b2aa3479-0979-4011-9995-5a60cfcc5543",
   "metadata": {},
   "source": [
    "## Ejercicios resueltos"
   ]
  },
  {
   "cell_type": "markdown",
   "id": "fcbd8b10-6b38-44aa-8a1d-8b7dbadc4cbb",
   "metadata": {},
   "source": [
    "1."
   ]
  },
  {
   "cell_type": "code",
   "execution_count": 122,
   "id": "6177dbe0-69e2-4bc7-9fa3-0a330e8216b1",
   "metadata": {},
   "outputs": [
    {
     "name": "stdin",
     "output_type": "stream",
     "text": [
      "Dame un numero 1\n"
     ]
    },
    {
     "name": "stdout",
     "output_type": "stream",
     "text": [
      "Tu número no es primo\n"
     ]
    }
   ],
   "source": [
    "def noprimo(L):\n",
    "    if int(L) < 2 : \n",
    "        print(\"Tu número no es primo\")\n",
    "    elif int(L)==2 :\n",
    "        print(\"Tu numero es primo\")\n",
    "    elif (int(L) % 2 == 0) or (int(L) % 3 == 0) or (int(L) % 4 == 0) or (int(L) % 5 == 0):\n",
    "        print(\"Tu numero no es primo\")\n",
    "    else:\n",
    "        print(\"Tu numero es primo\")\n",
    "\n",
    "noprimo(input(\"Dame un numero\"))\n"
   ]
  },
  {
   "cell_type": "markdown",
   "id": "ddc3e8b4-b829-4e86-8863-d0209106e980",
   "metadata": {},
   "source": [
    "2."
   ]
  },
  {
   "cell_type": "code",
   "execution_count": 165,
   "id": "9ec6be7e-d303-4fea-b254-ddaf12628bb8",
   "metadata": {},
   "outputs": [
    {
     "name": "stdin",
     "output_type": "stream",
     "text": [
      "Dame un valor entre 0 y 100 75\n"
     ]
    },
    {
     "name": "stdout",
     "output_type": "stream",
     "text": [
      "75\n"
     ]
    }
   ],
   "source": [
    "def primos(a):\n",
    "    while int(a) < 0 or int(a) > 100:\n",
    "        print(\"Valores entre 0 y 100 solamente\")\n",
    "        input()\n",
    "    i=1\n",
    "    o=2\n",
    "    while i%2 == 0 or i%3 == 0 or i%4 == 0 or i%5 == 0:\n",
    "        a = a+i\n",
    "        i += 1\n",
    "        a = a-o\n",
    "        o += 1\n",
    "    print(a)\n",
    "    \n",
    "\n",
    "\n",
    "primos(input(\"Dame un valor entre 0 y 100\"))\n"
   ]
  },
  {
   "cell_type": "markdown",
   "id": "5176fa92-6149-4dfb-b5be-fbfae51c24ac",
   "metadata": {},
   "source": [
    "3."
   ]
  },
  {
   "cell_type": "code",
   "execution_count": 133,
   "id": "36610145-ebda-46a3-bb7b-cdb40a3ba408",
   "metadata": {},
   "outputs": [
    {
     "name": "stdout",
     "output_type": "stream",
     "text": [
      "24\n",
      "5040\n",
      "120\n",
      "40320\n",
      "362880\n",
      "6\n"
     ]
    }
   ],
   "source": [
    "def factorial(a) :\n",
    "    i = 1\n",
    "    acc = 1\n",
    "    while i <= int(a) :\n",
    "        acc = acc*i\n",
    "        i += 1\n",
    "    return acc\n",
    "\n",
    "lista = [4, 7, 5, 8, 9, 3]\n",
    "for elemento in lista :\n",
    "    print(factorial(elemento))"
   ]
  },
  {
   "cell_type": "code",
   "execution_count": null,
   "id": "0637e695-973c-4437-8dfa-39cd1bdb6b64",
   "metadata": {},
   "outputs": [],
   "source": []
  }
 ],
 "metadata": {
  "kernelspec": {
   "display_name": "Python 3 (ipykernel)",
   "language": "python",
   "name": "python3"
  },
  "language_info": {
   "codemirror_mode": {
    "name": "ipython",
    "version": 3
   },
   "file_extension": ".py",
   "mimetype": "text/x-python",
   "name": "python",
   "nbconvert_exporter": "python",
   "pygments_lexer": "ipython3",
   "version": "3.12.4"
  }
 },
 "nbformat": 4,
 "nbformat_minor": 5
}
