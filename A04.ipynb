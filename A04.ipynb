{
 "cells": [
  {
   "cell_type": "markdown",
   "id": "05d55ca7-3372-462d-b4e5-a5c9436b6f74",
   "metadata": {},
   "source": [
    " # Ejercicio A04 Sympy\n",
    " LUIS EDGARDO ORDOÑEZ ALVAREZ 29/08/2024 "
   ]
  },
  {
   "cell_type": "code",
   "execution_count": 87,
   "id": "821a1d0b-7e28-4b20-86f1-dae316cf3d53",
   "metadata": {},
   "outputs": [],
   "source": [
    "import sympy as sp\n",
    "import matplotlib.pyplot as plt\n",
    "import numpy as np"
   ]
  },
  {
   "cell_type": "markdown",
   "id": "c97561ac-d87d-4d2d-93c4-ea9780a7baf0",
   "metadata": {},
   "source": [
    "# 1. Encuentra sympy y encuentra los valores de las incongnitas que hagan que los siguientes sistemas de ecuaciones sean verdaderos\n",
    "\n",
    "$$ x + y = 10 $$\n",
    "$$ x - y = 2 $$\n",
    "\n",
    "------------------------\n",
    "\n",
    "$$ \\frac{3x - 2y}{3} + 4y = \\frac{13}{3}$$\n",
    "$$ \\frac{2(-2y+x)}{3} - \\frac{3x}{2} = - \\frac{13}{6}$$\n",
    "\n",
    "------------------------\n",
    "\n",
    "$$ x^2 - 2y = 16 $$\n",
    "$$ x - y = 3 $$\n",
    "\n",
    "------------------------\n",
    "\n",
    "$$ x + y - z = 10 $$\n",
    "$$ x - y = 2 $$\n",
    "$$ y + z = -2 $$"
   ]
  },
  {
   "cell_type": "code",
   "execution_count": 37,
   "id": "b63657e4-8701-4a34-aca5-b21b5d96ec12",
   "metadata": {},
   "outputs": [],
   "source": [
    "x, y, z = sp.symbols(\"x y z\")\n"
   ]
  },
  {
   "cell_type": "code",
   "execution_count": 109,
   "id": "84887442-c74b-4d79-9d55-59ff40b6ef8c",
   "metadata": {},
   "outputs": [
    {
     "data": {
      "text/plain": [
       "(6, 4)"
      ]
     },
     "execution_count": 109,
     "metadata": {},
     "output_type": "execute_result"
    }
   ],
   "source": [
    "sp.var(\"x\")\n",
    "sp.var(\"y\")\n",
    "\n",
    "ecuacion1 = (x + y - 10)\n",
    "ecuacion2 = (x - y - 2)\n",
    "\n",
    "solucion1 = sp.solve(ecuacion1, x)[0]\n",
    "solucion2 = ecuacion2.subs(x, solucion1)\n",
    "\n",
    "sp.solve(solucion2, y)\n",
    "\n",
    "ysol=sp.solve(solucion2, y)[0]\n",
    "xsol=solucion1.subs(y, ysol)\n",
    "\n",
    "xsol, ysol"
   ]
  },
  {
   "cell_type": "code",
   "execution_count": 111,
   "id": "4aa75afc-043d-4beb-8b30-29b78d94b74b",
   "metadata": {},
   "outputs": [
    {
     "data": {
      "text/plain": [
       "(1.00000000000000, 1.00000000000000)"
      ]
     },
     "execution_count": 111,
     "metadata": {},
     "output_type": "execute_result"
    }
   ],
   "source": [
    "sp.var(\"x\")\n",
    "sp.var(\"y\")\n",
    "\n",
    "ecuacion1 = ((3*x - 2*y)/3 + 4*y - 13/3)\n",
    "ecuacion2 = (2*(-2*y+x)/3 - 3*x/2 + 13/6)\n",
    "\n",
    "solucion1 = sp.solve(ecuacion1, x)[0]\n",
    "solucion2 = ecuacion2.subs(x, solucion1)\n",
    "\n",
    "sp.solve(solucion2, y)\n",
    "\n",
    "ysol=sp.solve(solucion2, y)[0]\n",
    "xsol=solucion1.subs(y, ysol)\n",
    "\n",
    "xsol, ysol"
   ]
  },
  {
   "cell_type": "code",
   "execution_count": 113,
   "id": "575dbe45-7812-4734-a685-253dce60de6f",
   "metadata": {},
   "outputs": [
    {
     "data": {
      "text/plain": [
       "(-sqrt(12 - 2*sqrt(11)), -sqrt(11) - 2)"
      ]
     },
     "execution_count": 113,
     "metadata": {},
     "output_type": "execute_result"
    }
   ],
   "source": [
    "sp.var(\"x\")\n",
    "sp.var(\"y\")\n",
    "\n",
    "ecuacion1 = (x**2 - 2*y - 16)\n",
    "ecuacion2 = (x - y - 3)\n",
    "\n",
    "solucion1 = sp.solve(ecuacion1, x)[0]\n",
    "solucion2 = ecuacion2.subs(x, solucion1)\n",
    "\n",
    "sp.solve(solucion2, y)\n",
    "\n",
    "ysol=sp.solve(solucion2, y)[0]\n",
    "xsol=solucion1.subs(y, ysol)\n",
    "\n",
    "xsol, ysol"
   ]
  },
  {
   "cell_type": "code",
   "execution_count": 119,
   "id": "11a9b326-82c9-4cab-90b6-0ed0a0f17eed",
   "metadata": {},
   "outputs": [
    {
     "ename": "TypeError",
     "evalue": "Equality.__new__() missing 1 required positional argument: 'rhs'",
     "output_type": "error",
     "traceback": [
      "\u001b[1;31m---------------------------------------------------------------------------\u001b[0m",
      "\u001b[1;31mTypeError\u001b[0m                                 Traceback (most recent call last)",
      "Cell \u001b[1;32mIn[119], line 1\u001b[0m\n\u001b[1;32m----> 1\u001b[0m ecuacion1 \u001b[38;5;241m=\u001b[39m sp\u001b[38;5;241m.\u001b[39mEq(x \u001b[38;5;241m+\u001b[39m y \u001b[38;5;241m-\u001b[39mz \u001b[38;5;241m-\u001b[39m \u001b[38;5;241m10\u001b[39m)\n\u001b[0;32m      2\u001b[0m ecuacion2 \u001b[38;5;241m=\u001b[39m sp\u001b[38;5;241m.\u001b[39mEq(x \u001b[38;5;241m-\u001b[39m y \u001b[38;5;241m-\u001b[39m \u001b[38;5;241m2\u001b[39m)\n\u001b[0;32m      3\u001b[0m ecuacion3 \u001b[38;5;241m=\u001b[39m sp\u001b[38;5;241m.\u001b[39mEq(y \u001b[38;5;241m+\u001b[39m z \u001b[38;5;241m+\u001b[39m \u001b[38;5;241m2\u001b[39m)\n",
      "\u001b[1;31mTypeError\u001b[0m: Equality.__new__() missing 1 required positional argument: 'rhs'"
     ]
    }
   ],
   "source": [
    "ecuacion1 = sp.Eq(x + y -z - 10)\n",
    "ecuacion2 = sp.Eq(x - y - 2)\n",
    "ecuacion3 = sp.Eq(y + z + 2)\n",
    "\n",
    "solucion1 = sp.solve(ecuacion1, x)[0]\n",
    "solucion2 = ecuacion2.subs(x, solucion1)\n",
    "solucion21 = sp.solve(solucion2, y)[0]\n",
    "solucion3 = ecuacion3.subs(y, solucion21)\n",
    "\n",
    "sp.solve(solucion2, y)\n",
    "\n",
    "ysol=sp.solve(solucion2, y)[0]\n",
    "xsol=solucion1.subs(y, ysol)\n",
    "zsol= sp.solve(solucion3,z)[0]\n",
    "\n",
    "xsol, ysol, zsol"
   ]
  },
  {
   "cell_type": "markdown",
   "id": "cc762e28-174d-4a01-a901-2e0271947cab",
   "metadata": {},
   "source": [
    "# 2. Encuentra los puntos críticos usando cálculo diferencial, decide si son máximos o mínimos usando el criterio de la segunda derivada, y grafica para decidir se son óptimos locales o globales:\n",
    "\n",
    "$$ f(x)= 1235 + 113x - 6x^2 $$\n",
    "$$ f(x)= -3 + x + \\frac{\\pi}{x} \\text{, para }x > 0$$\n",
    "$$ f(x)= 2 - 3x + \\sqrt{8 - 2x^2} , para -2 \\leq x \\leq 2$$\n",
    "$$ f(x)= \\frac{1}{4}x^4 + \\frac{1}{3}x^3 - x^2 en el intervalo de [-3,1.7] $$"
   ]
  },
  {
   "cell_type": "code",
   "execution_count": 115,
   "id": "a9f79938-c1fe-4a54-9d1e-4e3cfcc5344e",
   "metadata": {},
   "outputs": [
    {
     "data": {
      "text/latex": [
       "$\\displaystyle 113 - 12 x$"
      ],
      "text/plain": [
       "113 - 12*x"
      ]
     },
     "execution_count": 115,
     "metadata": {},
     "output_type": "execute_result"
    }
   ],
   "source": [
    "de1 = sp.diff(1235 + 113*x - 6*x**2, x)\n",
    "de1"
   ]
  },
  {
   "cell_type": "code",
   "execution_count": 117,
   "id": "8f142988-7909-4ea3-af5b-004b20097b62",
   "metadata": {},
   "outputs": [
    {
     "data": {
      "text/latex": [
       "$\\displaystyle -12$"
      ],
      "text/plain": [
       "-12"
      ]
     },
     "execution_count": 117,
     "metadata": {},
     "output_type": "execute_result"
    }
   ],
   "source": [
    "de2 = sp.diff(de1)\n",
    "de2"
   ]
  },
  {
   "cell_type": "code",
   "execution_count": 91,
   "id": "07a95b6c-6289-4b1b-92ce-ec46d8f90f3e",
   "metadata": {},
   "outputs": [
    {
     "data": {
      "text/latex": [
       "$\\displaystyle \\frac{6.28318530717959}{x^{3}}$"
      ],
      "text/plain": [
       "6.28318530717959/x**3"
      ]
     },
     "execution_count": 91,
     "metadata": {},
     "output_type": "execute_result"
    }
   ],
   "source": [
    "de1 = sp.diff(-3 + x + np.pi/x , x)\n",
    "de2 = sp.diff(de1)\n",
    "de2"
   ]
  },
  {
   "cell_type": "code",
   "execution_count": 99,
   "id": "054bfebe-7dfd-42ca-9876-cbbb97e4c34f",
   "metadata": {},
   "outputs": [
    {
     "data": {
      "text/latex": [
       "$\\displaystyle - \\frac{4 x^{2}}{\\left(8 - 2 x^{2}\\right)^{\\frac{3}{2}}} - \\frac{2}{\\sqrt{8 - 2 x^{2}}}$"
      ],
      "text/plain": [
       "-4*x**2/(8 - 2*x**2)**(3/2) - 2/sqrt(8 - 2*x**2)"
      ]
     },
     "execution_count": 99,
     "metadata": {},
     "output_type": "execute_result"
    }
   ],
   "source": [
    "de1 = sp.diff(2 - 3*x + sp.sqrt(8-2*(x**2)) , x)\n",
    "de2 = sp.diff(de1)\n",
    "de2"
   ]
  },
  {
   "cell_type": "code",
   "execution_count": 97,
   "id": "08573ae0-69a6-45e1-a346-82fd59837f86",
   "metadata": {},
   "outputs": [
    {
     "data": {
      "text/latex": [
       "$\\displaystyle 3.0 x^{2} + 2.0 x - 2$"
      ],
      "text/plain": [
       "3.0*x**2 + 2.0*x - 2"
      ]
     },
     "execution_count": 97,
     "metadata": {},
     "output_type": "execute_result"
    }
   ],
   "source": [
    "de1 = sp.diff(1/4 * x**4 + 1/3 * x**3 - x**2 , x)\n",
    "de2 = sp.diff(de1)\n",
    "de2"
   ]
  },
  {
   "cell_type": "code",
   "execution_count": null,
   "id": "a2f19e3b-b3f0-48f7-b43d-e791b54a372e",
   "metadata": {},
   "outputs": [],
   "source": []
  }
 ],
 "metadata": {
  "kernelspec": {
   "display_name": "Python 3 (ipykernel)",
   "language": "python",
   "name": "python3"
  },
  "language_info": {
   "codemirror_mode": {
    "name": "ipython",
    "version": 3
   },
   "file_extension": ".py",
   "mimetype": "text/x-python",
   "name": "python",
   "nbconvert_exporter": "python",
   "pygments_lexer": "ipython3",
   "version": "3.12.4"
  }
 },
 "nbformat": 4,
 "nbformat_minor": 5
}
