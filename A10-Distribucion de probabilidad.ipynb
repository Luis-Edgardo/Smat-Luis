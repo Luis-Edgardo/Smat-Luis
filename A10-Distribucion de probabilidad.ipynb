{
 "cells": [
  {
   "cell_type": "markdown",
   "id": "84dc5ce6-134e-44b2-ac8e-738ce19c27b4",
   "metadata": {},
   "source": [
    "# A10-Distribucion de probabilidad\n",
    "\n",
    "### Luis Edgardo Ordoñez Álvarez         17/10/2024"
   ]
  },
  {
   "cell_type": "markdown",
   "id": "081ee803-e6e9-4995-a3fb-e64ba6ec13fc",
   "metadata": {},
   "source": [
    "1.- Menciona tres ejemplos de variables aleatorias discretas:"
   ]
  },
  {
   "cell_type": "markdown",
   "id": "f05c9270-53c0-4eb5-ab84-8bb635f04c73",
   "metadata": {},
   "source": [
    "+ Lanzamientos de un dado\n",
    "+ Lanzamientos de una moneda\n",
    "+ Numero de personas en una fila"
   ]
  },
  {
   "cell_type": "markdown",
   "id": "5305800e-eedd-4a31-8ff7-6f6d38754ee2",
   "metadata": {},
   "source": [
    "2.- Menciona tres ejemplos de variables aleatorias continuas:"
   ]
  },
  {
   "cell_type": "markdown",
   "id": "3af8fe7e-5c59-4e34-b897-274bb9eaa340",
   "metadata": {},
   "source": [
    "+ Temperatura en un dia\n",
    "+ Horas de trafico\n",
    "+ Altura de personas"
   ]
  },
  {
   "cell_type": "code",
   "execution_count": 4,
   "id": "e21d69b3-687e-4b7b-9423-d730bbc30c87",
   "metadata": {},
   "outputs": [],
   "source": [
    "import numpy as np\n",
    "import matplotlib.pyplot as plt"
   ]
  },
  {
   "cell_type": "markdown",
   "id": "c17de873-53a9-4860-bd49-2032b17c35b6",
   "metadata": {},
   "source": [
    "3.- Dos equipos juegan una serie de juegos (4 de 7, el que gane 4 juegos gana). Cada equipo tiene 50% de probabilidad de ganar cada juego (no empates). ¿Cual es la probabilidad de que la serie se vaya a 7 juegos? (5/16)"
   ]
  },
  {
   "cell_type": "code",
   "execution_count": 102,
   "id": "b80e9a07-7539-49bd-8ade-7f0c538de83e",
   "metadata": {},
   "outputs": [
    {
     "name": "stdout",
     "output_type": "stream",
     "text": [
      "fueron 7\n",
      "fueron 7\n",
      "fueron 7\n",
      "fueron 7\n",
      "fueron 7\n",
      "fueron 7\n",
      "fueron 7\n",
      "fueron 7\n",
      "fueron 7\n",
      "fueron 7\n",
      "fueron 7\n",
      "fueron 7\n",
      "fueron 7\n",
      "fueron 7\n",
      "fueron 7\n",
      "fueron 7\n",
      "fueron 7\n",
      "fueron 7\n",
      "fueron 7\n",
      "fueron 7\n",
      "fueron 7\n",
      "fueron 7\n",
      "fueron 7\n",
      "fueron 7\n",
      "fueron 7\n",
      "fueron 7\n",
      "fueron 7\n",
      "fueron 7\n",
      "fueron 7\n",
      "fueron 7\n",
      "fueron 7\n",
      "fueron 7\n",
      "fueron 7\n",
      "fueron 7\n",
      "fueron 7\n",
      "fueron 7\n",
      "fueron 7\n",
      "fueron 7\n",
      "fueron 7\n",
      "fueron 7\n",
      "fueron 7\n"
     ]
    }
   ],
   "source": [
    "Ganar = 0.5\n",
    "Equipos = 2\n",
    "Max_gan = 7\n",
    "Min_gan = 4\n",
    "\n",
    "\n",
    "\n",
    "for i in range(100):\n",
    "    Rojo = 0\n",
    "    Azul = 0\n",
    "    while (Rojo < 4 and Azul < 4) :\n",
    "        Equipo = np.random.choice([0, 1])\n",
    "        if Equipo == 0 :\n",
    "            Rojo += 1\n",
    "        else :\n",
    "            Azul += 1\n",
    "\n",
    "    if Rojo + Azul == 7 :\n",
    "        print(\"fueron 7\")   \n",
    "\n"
   ]
  },
  {
   "cell_type": "markdown",
   "id": "e6d79986-83e7-4a43-9009-18c019db69e8",
   "metadata": {},
   "source": [
    "4.- Una en mil personas tienen una enfermedad H, y la prueba de la enfermedad sale correcta 98% de las veces cuando la persona está enferma. Por otro lado, si la persona está enferma la prueba tiene un error del 1%. Si alguien se hace una prueba y sale positiva, ¿cual es la probabilidad de que sí esté lloviendo?"
   ]
  },
  {
   "cell_type": "markdown",
   "id": "3471a5ac-d5f0-47fb-8d62-9ebcff0277ae",
   "metadata": {},
   "source": [
    "+ P(D=1) = 0.1%\n",
    "+ P(T=1|D=1) = 98%\n",
    "+ P(T=1|D=0) = 1%"
   ]
  },
  {
   "cell_type": "code",
   "execution_count": 71,
   "id": "2629297c-d8e5-4fba-8608-1dc6dbd66633",
   "metadata": {},
   "outputs": [
    {
     "data": {
      "text/plain": [
       "0.104"
      ]
     },
     "execution_count": 71,
     "metadata": {},
     "output_type": "execute_result"
    }
   ],
   "source": [
    "import numpy as np\n",
    "n = 10000\n",
    "personas = np.random.choice([0,1], n, p=[0.999, 0.001])\n",
    "t1_d1 = np.random.choice([0,1], personas.sum(), p=[0.02, 0.98])\n",
    "t1_d0 = np.random.choice([0,1], n - personas.sum(), p=[0.99, 0.01])\n",
    "t1_d1.sum()/(t1_d1.sum() + t1_d0.sum())"
   ]
  },
  {
   "cell_type": "markdown",
   "id": "3d61bb15-882e-4bf5-ab9f-3dab8228870c",
   "metadata": {},
   "source": [
    "1000000\n",
    "1000 se enferman\n",
    "    980 salen positivas\n",
    "    20 salen negativas\n",
    "999000 sanas\n",
    "    9990 salen positivas\n",
    "    989010 salen negativas"
   ]
  },
  {
   "cell_type": "code",
   "execution_count": 65,
   "id": "f0c11fab-75a3-46a9-a01d-651a4717a80e",
   "metadata": {},
   "outputs": [
    {
     "data": {
      "text/plain": [
       "0.08933454876937101"
      ]
     },
     "execution_count": 65,
     "metadata": {},
     "output_type": "execute_result"
    }
   ],
   "source": [
    "980/(980+9990)"
   ]
  },
  {
   "cell_type": "markdown",
   "id": "d54ccb37-bdf4-48ef-a367-3a50f0fd5724",
   "metadata": {},
   "source": [
    "5.- Tres amigos diferentes te dijeron que está lloviendo, y cada persona tiene 1/3 de probabilidad de mentir. Si el pronóstico del clima dijo que la probabilidad de lluvia era 25%, ¿cual es la probabilidad de que sí este lloviendo?"
   ]
  },
  {
   "cell_type": "code",
   "execution_count": null,
   "id": "42e1c619-ff1f-42ef-a2e7-fe7b8f8c8c93",
   "metadata": {},
   "outputs": [],
   "source": []
  },
  {
   "cell_type": "code",
   "execution_count": null,
   "id": "f1e9cb13-7362-41da-abe2-b61c7982ddc7",
   "metadata": {},
   "outputs": [],
   "source": []
  }
 ],
 "metadata": {
  "kernelspec": {
   "display_name": "Python 3 (ipykernel)",
   "language": "python",
   "name": "python3"
  },
  "language_info": {
   "codemirror_mode": {
    "name": "ipython",
    "version": 3
   },
   "file_extension": ".py",
   "mimetype": "text/x-python",
   "name": "python",
   "nbconvert_exporter": "python",
   "pygments_lexer": "ipython3",
   "version": "3.12.4"
  }
 },
 "nbformat": 4,
 "nbformat_minor": 5
}
