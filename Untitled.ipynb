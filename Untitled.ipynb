{
 "cells": [
  {
   "cell_type": "markdown",
   "id": "2fc0b209-c5c5-483f-a04f-3ef57cd0a2f4",
   "metadata": {},
   "source": [
    "# Simulacion matematica\n",
    "texto\n",
    "# otro titulo\n",
    "texto"
   ]
  },
  {
   "cell_type": "markdown",
   "id": "e6cc54a4-e96b-4535-af57-6990cb858ffd",
   "metadata": {},
   "source": [
    "# Listas de chocolates"
   ]
  },
  {
   "cell_type": "markdown",
   "id": "fd1cb1a9-9ccc-4753-9e2c-2143916c4a38",
   "metadata": {},
   "source": [
    "* Blanco: $8.5$\n",
    "  * Con cacahuate\n",
    "  * fsda\n",
    "- dsadw\n"
   ]
  },
  {
   "cell_type": "markdown",
   "id": "e069a994-f367-40a3-8305-23a4e0876c5f",
   "metadata": {},
   "source": [
    "# Tipos de chocolate"
   ]
  },
  {
   "cell_type": "markdown",
   "id": "7f588a23-0b62-44d7-94b2-2c844679f259",
   "metadata": {},
   "source": [
    "1. Blanco\n",
    "2. Negro\n",
    "3. Con leche\n",
    "4. Con almendras\n",
    "5. Confitado"
   ]
  },
  {
   "cell_type": "markdown",
   "id": "768a56b8-1dd3-4f90-96a8-0f5ec3b42780",
   "metadata": {},
   "source": [
    "$ \\frac{x^2+\\sqrt{y}}{e^{x^2+2x+4}} $"
   ]
  },
  {
   "cell_type": "markdown",
   "id": "44d4104f-91f1-446b-9047-28010d499b4d",
   "metadata": {},
   "source": [
    "$$ \\frac{x^2+\\sqrt{y}}{e^{x^2+2x+4}} $$"
   ]
  },
  {
   "cell_type": "markdown",
   "id": "9629395f-d3ba-4beb-a81d-9714ef57e023",
   "metadata": {},
   "source": []
  }
 ],
 "metadata": {
  "kernelspec": {
   "display_name": "Python 3 (ipykernel)",
   "language": "python",
   "name": "python3"
  },
  "language_info": {
   "codemirror_mode": {
    "name": "ipython",
    "version": 3
   },
   "file_extension": ".py",
   "mimetype": "text/x-python",
   "name": "python",
   "nbconvert_exporter": "python",
   "pygments_lexer": "ipython3",
   "version": "3.12.4"
  }
 },
 "nbformat": 4,
 "nbformat_minor": 5
}
