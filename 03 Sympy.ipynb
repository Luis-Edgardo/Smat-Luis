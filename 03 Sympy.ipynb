{
 "cells": [
  {
   "cell_type": "markdown",
   "id": "bc22a704-6b93-4b7b-9356-991df9f11c0d",
   "metadata": {},
   "source": [
    "# Tarea 03 Sympy\n",
    "### Luis Edgardo Ordoñez Álvarez                            Expdt. 751856"
   ]
  },
  {
   "cell_type": "code",
   "execution_count": 15,
   "id": "9e3e031d-52f8-4e28-902e-5e22ddf8a101",
   "metadata": {},
   "outputs": [],
   "source": [
    "import sympy as sp"
   ]
  },
  {
   "cell_type": "markdown",
   "id": "3be80a97-5699-43ec-916f-1416fa0457f1",
   "metadata": {},
   "source": [
    "### 1.- El perimetro de un triangulo isosceles es de 20 cm. Imagina que este triangulo rota centrado en su eje de simetria para formar la ilusion de un cono"
   ]
  },
  {
   "cell_type": "markdown",
   "id": "553f755a-6778-4d0a-a321-4b60d9138a3d",
   "metadata": {},
   "source": [
    "El perimetro es de 20 cm y como es triangulo isoceles cuenta con 2 lados iguales por lo que los lados mas la base sera igual a 20"
   ]
  },
  {
   "cell_type": "code",
   "execution_count": 28,
   "id": "c04fb15a-3c94-44ce-971b-acaa2fb9fd6a",
   "metadata": {},
   "outputs": [],
   "source": [
    "sp.var(\"l\") \n",
    "b = 20 - 2*l\n",
    "r = b/2\n",
    "h = sp.sqrt(l**2 - (b / 2)**2)\n",
    "sp.var(\"pi\")\n",
    "v = (1/3) * pi *  r**2 * h\n"
   ]
  },
  {
   "cell_type": "markdown",
   "id": "6e78d97e-9a64-4f0d-a74d-85a16c20f26d",
   "metadata": {},
   "source": [
    "Establecidos los datos derivamos"
   ]
  },
  {
   "cell_type": "code",
   "execution_count": 40,
   "id": "f51f5a3d-52f9-4245-bbf6-7ce13257b63e",
   "metadata": {},
   "outputs": [
    {
     "data": {
      "text/plain": [
       "[6.00000000000000, 10.0000000000000]"
      ]
     },
     "execution_count": 40,
     "metadata": {},
     "output_type": "execute_result"
    }
   ],
   "source": [
    "Dl = sp.diff(v , l)\n",
    "Sol1 = sp.solve(Dl , l)\n",
    "\n",
    "Sol1"
   ]
  },
  {
   "cell_type": "code",
   "execution_count": 48,
   "id": "f899ded4-5090-4be0-9607-2710858b26cf",
   "metadata": {},
   "outputs": [
    {
     "data": {
      "text/plain": [
       "[8.00000000000000, 0]"
      ]
     },
     "execution_count": 48,
     "metadata": {},
     "output_type": "execute_result"
    }
   ],
   "source": [
    "solb = [20 - 2*sol for sol in Sol1]\n",
    "solb"
   ]
  },
  {
   "cell_type": "markdown",
   "id": "b2411cad-b4ef-4ca1-adde-fb0ec98e164c",
   "metadata": {},
   "source": [
    "Por lo que conluimos que los lados iguales deben de medir 6 y la base 8 para conseguir su mayor rotacion posible"
   ]
  },
  {
   "cell_type": "markdown",
   "id": "24d77555-bdd0-4232-afe4-8500bbd1b2d9",
   "metadata": {},
   "source": [
    "### 2.- Disponemos de una barra de aluminio de 6 metros para construir una porteria de furbol en un parque. Es una porteria simple que solo tendra solo dos postes y el travesaño: \n",
    "Si queremos que el area de la porteria sea la maxima, cuanto deben de medir los postes del travesaño?"
   ]
  },
  {
   "cell_type": "markdown",
   "id": "4fa2222d-a04d-41da-89a9-f33b0fd7b672",
   "metadata": {},
   "source": [
    "Establecemos variables"
   ]
  },
  {
   "cell_type": "code",
   "execution_count": 106,
   "id": "cf3e5611-2ad3-492a-88c5-155127c4a706",
   "metadata": {},
   "outputs": [],
   "source": [
    "sp.var(\"x\")\n",
    "\n",
    "A = 6*x - 2*x**2"
   ]
  },
  {
   "cell_type": "code",
   "execution_count": 108,
   "id": "1e05aa53-c8f9-4ea4-b1e0-5c61bd5963f7",
   "metadata": {},
   "outputs": [
    {
     "data": {
      "text/latex": [
       "$\\displaystyle 6 - 4 x$"
      ],
      "text/plain": [
       "6 - 4*x"
      ]
     },
     "execution_count": 108,
     "metadata": {},
     "output_type": "execute_result"
    }
   ],
   "source": [
    "Da = sp.diff(A , x)\n",
    "Da"
   ]
  },
  {
   "cell_type": "code",
   "execution_count": 110,
   "id": "84bdded7-60c2-486c-ac2a-2abfc2c9e7d4",
   "metadata": {},
   "outputs": [
    {
     "data": {
      "text/plain": [
       "[3/2]"
      ]
     },
     "execution_count": 110,
     "metadata": {},
     "output_type": "execute_result"
    }
   ],
   "source": [
    "Solx = sp.solve(Da , x) \n",
    "Solx\n"
   ]
  },
  {
   "cell_type": "markdown",
   "id": "b174ca72-1c02-4a91-81c3-c847d69af430",
   "metadata": {},
   "source": [
    "Por lo tanto x vale 3/2 y sustituimos"
   ]
  },
  {
   "cell_type": "code",
   "execution_count": 113,
   "id": "a58a48f1-300b-4ac9-aa00-fb3dac5cd39e",
   "metadata": {},
   "outputs": [
    {
     "data": {
      "text/plain": [
       "[9/2]"
      ]
     },
     "execution_count": 113,
     "metadata": {},
     "output_type": "execute_result"
    }
   ],
   "source": [
    "solA = [(6*sol - 2*sol**2)  for sol in Solx]\n",
    "solA"
   ]
  },
  {
   "cell_type": "markdown",
   "id": "2a6e01f8-faf8-491d-9fb7-e812f3e1322a",
   "metadata": {},
   "source": [
    "Por lo tanto la solucion es que el area maxima es 4.5 m cuadrados"
   ]
  },
  {
   "cell_type": "markdown",
   "id": "fc2607fa-7ec3-4561-9d3e-639b66127b16",
   "metadata": {},
   "source": [
    "### 3.- Una viga de madera tiene una sección transversal rectangular de altura $h$ y ancho $w$. La resistencia $S$ de la viga es directamente proporcional al ancho y al cuadrado de su altura ($S=kwh^2$, donde $k$ es una constante de proporcionalidad). ¿Cuáles son las dimensiones de la viga más fuerte que puede cortarse a partir de un leño redondo de $24$ pulgadas de diámetro?"
   ]
  },
  {
   "cell_type": "markdown",
   "id": "be6b6f02-9c14-4048-84cc-a45f2c6b92c3",
   "metadata": {},
   "source": [
    "Definimos variables"
   ]
  },
  {
   "cell_type": "code",
   "execution_count": 17,
   "id": "02edd221-b531-4ce7-a9a5-8464da8b0003",
   "metadata": {},
   "outputs": [
    {
     "data": {
      "text/latex": [
       "$\\displaystyle h$"
      ],
      "text/plain": [
       "h"
      ]
     },
     "execution_count": 17,
     "metadata": {},
     "output_type": "execute_result"
    }
   ],
   "source": [
    "sp.var(\"An\")\n",
    "sp.var(\"h\")"
   ]
  },
  {
   "cell_type": "markdown",
   "id": "596cc81c-0443-4e83-a37d-ebb1ad3ae545",
   "metadata": {},
   "source": [
    "Realizamos las ecuaciones"
   ]
  },
  {
   "cell_type": "code",
   "execution_count": 21,
   "id": "42e900fc-388b-4109-94f4-19b455cc4b91",
   "metadata": {},
   "outputs": [],
   "source": [
    "Sq = An*h\n",
    "Tr = h**2 + An**2 - 24**2"
   ]
  },
  {
   "cell_type": "code",
   "execution_count": 29,
   "id": "3f79dda9-4d85-4a83-a6d8-61f7d69b5bcc",
   "metadata": {},
   "outputs": [
    {
     "data": {
      "text/latex": [
       "$\\displaystyle \\sqrt{576 - h^{2}}$"
      ],
      "text/plain": [
       "sqrt(576 - h**2)"
      ]
     },
     "execution_count": 29,
     "metadata": {},
     "output_type": "execute_result"
    }
   ],
   "source": [
    "Res = sp.solve(Tr, An)[1]\n",
    "Res"
   ]
  },
  {
   "cell_type": "code",
   "execution_count": 33,
   "id": "9610271e-c495-4f22-9508-22c3007b3f34",
   "metadata": {},
   "outputs": [
    {
     "data": {
      "text/latex": [
       "$\\displaystyle h \\sqrt{576 - h^{2}}$"
      ],
      "text/plain": [
       "h*sqrt(576 - h**2)"
      ]
     },
     "execution_count": 33,
     "metadata": {},
     "output_type": "execute_result"
    }
   ],
   "source": [
    "Sq2 = Sq.subs(An, Res)\n",
    "Sq2"
   ]
  },
  {
   "cell_type": "markdown",
   "id": "b9ca0539-1b85-4896-bbde-14c9e5a7ec66",
   "metadata": {},
   "source": [
    "Ahora derivamos"
   ]
  },
  {
   "cell_type": "code",
   "execution_count": 38,
   "id": "c413ac5b-7653-4e60-9b98-8cf571179b56",
   "metadata": {},
   "outputs": [
    {
     "data": {
      "text/latex": [
       "$\\displaystyle - \\frac{h^{2}}{\\sqrt{576 - h^{2}}} + \\sqrt{576 - h^{2}}$"
      ],
      "text/plain": [
       "-h**2/sqrt(576 - h**2) + sqrt(576 - h**2)"
      ]
     },
     "execution_count": 38,
     "metadata": {},
     "output_type": "execute_result"
    }
   ],
   "source": [
    "Dersq2 = sp.diff(Sq2)\n",
    "Dersq2"
   ]
  },
  {
   "cell_type": "markdown",
   "id": "72a7c81f-3be4-4159-a1f6-821df853c216",
   "metadata": {},
   "source": [
    "Resolvemos"
   ]
  },
  {
   "cell_type": "code",
   "execution_count": 42,
   "id": "b80cbe36-a900-4c3d-b5db-04385f4cc02a",
   "metadata": {},
   "outputs": [
    {
     "data": {
      "text/latex": [
       "$\\displaystyle 12 \\sqrt{2}$"
      ],
      "text/plain": [
       "12*sqrt(2)"
      ]
     },
     "execution_count": 42,
     "metadata": {},
     "output_type": "execute_result"
    }
   ],
   "source": [
    "Final = sp.solve(Dersq2, h)[1]\n",
    "Final"
   ]
  },
  {
   "cell_type": "markdown",
   "id": "a7191208-7a9c-4c5d-be73-2273d0d84324",
   "metadata": {},
   "source": [
    "### 4. **Iluminación**  Una fuente luminosa se localiza sobre el centro de una mesa circular de $4 pies$ de diámetro. Encontrar la altura $h$ de la fuente luminosa de modo tal que la iluminación $I$ en el perímetro de la mesa sea máxima si $I=k(\\sin \\alpha)/s^2$, donde $s$ es la altura oblicua, $\\alpha$ es el ángulo al cual la luz incide sobre la mesa y $k$ es una constante (El valor de esta última constante es irrelevante para el problema, ya que no se pide el valor de la iluminación)."
   ]
  },
  {
   "cell_type": "markdown",
   "id": "5bdc1fe0-be27-4fb6-b868-a70345340803",
   "metadata": {},
   "source": [
    "Establecemos variables"
   ]
  },
  {
   "cell_type": "code",
   "execution_count": 52,
   "id": "b4d8958f-9b52-4263-9805-9ccb8f976184",
   "metadata": {},
   "outputs": [
    {
     "data": {
      "text/latex": [
       "$\\displaystyle ho$"
      ],
      "text/plain": [
       "ho"
      ]
     },
     "execution_count": 52,
     "metadata": {},
     "output_type": "execute_result"
    }
   ],
   "source": [
    "sp.var(\"h\")\n",
    "sp.var(\"ho\")"
   ]
  },
  {
   "cell_type": "markdown",
   "id": "fdbbda47-6996-4156-8e39-b26a0c629b4a",
   "metadata": {},
   "source": [
    "Establecemos ecuaciones"
   ]
  },
  {
   "cell_type": "code",
   "execution_count": 55,
   "id": "348f69cf-5710-4ff8-aa4f-e29d0ef2d118",
   "metadata": {},
   "outputs": [],
   "source": [
    "Tr = h**2 + 4 - ho**2"
   ]
  },
  {
   "cell_type": "markdown",
   "id": "3dbeb6b5-9cfe-4715-add5-c880316caec4",
   "metadata": {},
   "source": [
    "Despejamos variables"
   ]
  },
  {
   "cell_type": "code",
   "execution_count": 64,
   "id": "0c38755c-be8a-4208-a8bb-c7305f480464",
   "metadata": {},
   "outputs": [],
   "source": [
    "Trh = sp.solve(Tr , h)[1]\n",
    "Alpha = h/ho"
   ]
  },
  {
   "cell_type": "code",
   "execution_count": 70,
   "id": "e84b4b96-3900-4f80-8a93-4119dd15e4d9",
   "metadata": {},
   "outputs": [],
   "source": [
    "Alphah = Alpha.subs(h,Trh)\n",
    "Iluminacion = Alphah/Trh**2"
   ]
  },
  {
   "cell_type": "markdown",
   "id": "a42a956e-e3e8-452c-bbc7-9e4dafbf7f98",
   "metadata": {},
   "source": [
    "Derivamos la iluminacion"
   ]
  },
  {
   "cell_type": "code",
   "execution_count": 75,
   "id": "a7b5a395-fa67-468d-b1af-2f49fbbe2f55",
   "metadata": {},
   "outputs": [
    {
     "data": {
      "text/latex": [
       "$\\displaystyle - \\frac{1}{\\left(ho^{2} - 4\\right)^{\\frac{3}{2}}} - \\frac{1}{ho^{2} \\sqrt{ho^{2} - 4}}$"
      ],
      "text/plain": [
       "-1/(ho**2 - 4)**(3/2) - 1/(ho**2*sqrt(ho**2 - 4))"
      ]
     },
     "execution_count": 75,
     "metadata": {},
     "output_type": "execute_result"
    }
   ],
   "source": [
    "di = sp.diff(Iluminacion , ho)\n",
    "di"
   ]
  },
  {
   "cell_type": "markdown",
   "id": "db1bd9e9-7d5e-4618-95ad-f91557412bcc",
   "metadata": {},
   "source": [
    "Resolvemos"
   ]
  },
  {
   "cell_type": "code",
   "execution_count": 78,
   "id": "81383d6f-3ab1-4f73-8a9c-0f3e5cd85d4b",
   "metadata": {},
   "outputs": [
    {
     "data": {
      "text/latex": [
       "$\\displaystyle \\sqrt{2}$"
      ],
      "text/plain": [
       "sqrt(2)"
      ]
     },
     "execution_count": 78,
     "metadata": {},
     "output_type": "execute_result"
    }
   ],
   "source": [
    "sol = sp.solve(di , ho)[1]\n",
    "sol"
   ]
  },
  {
   "cell_type": "markdown",
   "id": "9124edfe-c343-480c-8f5f-d0c81a97ab03",
   "metadata": {},
   "source": [
    "### 5. **Fuerza mínima**  Se diseña un componente para deslizar un bloque de acero con peso $W=10 N$ a través de una mesa y sobre una canaleta. Se opone al movimiento del bloque una fuerza de fricción proporcional a su peso aparente (sea $k=0.1$ la constante de proporcionalidad). Determinar la fuerza mínima $f$ necesaria para deslizar el bloque y encontrar el valor correspondiente de $\\theta$.\n"
   ]
  },
  {
   "cell_type": "markdown",
   "id": "b339ce8f-0718-4de5-ac0c-ca97f9e7552f",
   "metadata": {},
   "source": [
    "Definimos variables"
   ]
  },
  {
   "cell_type": "code",
   "execution_count": 88,
   "id": "4de1c06d-85cf-4630-a4b6-db6fccd2506d",
   "metadata": {},
   "outputs": [],
   "source": [
    "sp.var(\"x\")\n",
    "W = 10\n",
    "k= 0.1\n",
    "f = k * W"
   ]
  },
  {
   "cell_type": "markdown",
   "id": "eac18769-ea9a-4d4b-bf99-60a62bfaaeb5",
   "metadata": {},
   "source": [
    "Establecemos ecuaciones"
   ]
  },
  {
   "cell_type": "code",
   "execution_count": 91,
   "id": "e002ddf9-e994-49d1-a4ba-28aacc458d6e",
   "metadata": {},
   "outputs": [
    {
     "data": {
      "text/latex": [
       "$\\displaystyle \\frac{1.0}{0.1 \\sin{\\left(x \\right)} + \\cos{\\left(x \\right)}}$"
      ],
      "text/plain": [
       "1.0/(0.1*sin(x) + cos(x))"
      ]
     },
     "execution_count": 91,
     "metadata": {},
     "output_type": "execute_result"
    }
   ],
   "source": [
    "Ec = f/(sp.cos(x)+k*sp.sin(x))\n",
    "Ec"
   ]
  },
  {
   "cell_type": "markdown",
   "id": "9893c447-8dec-432a-8998-729cae8ad8a2",
   "metadata": {},
   "source": [
    "Derivamos"
   ]
  },
  {
   "cell_type": "code",
   "execution_count": 101,
   "id": "97a5c849-eab7-49a2-9a0e-95a1d082a4bf",
   "metadata": {},
   "outputs": [
    {
     "data": {
      "text/latex": [
       "$\\displaystyle \\frac{1.0 \\left(\\sin{\\left(x \\right)} - 0.1 \\cos{\\left(x \\right)}\\right)}{\\left(0.1 \\sin{\\left(x \\right)} + \\cos{\\left(x \\right)}\\right)^{2}}$"
      ],
      "text/plain": [
       "1.0*(sin(x) - 0.1*cos(x))/(0.1*sin(x) + cos(x))**2"
      ]
     },
     "execution_count": 101,
     "metadata": {},
     "output_type": "execute_result"
    }
   ],
   "source": [
    "dec = sp.diff(Ec, x)\n",
    "dec"
   ]
  },
  {
   "cell_type": "markdown",
   "id": "a36aa87e-36f7-48d4-8b92-56f668071b47",
   "metadata": {},
   "source": [
    "Resolvemos"
   ]
  },
  {
   "cell_type": "code",
   "execution_count": 104,
   "id": "405fb5f0-1510-4783-ba37-7fb2ff9f3fd3",
   "metadata": {},
   "outputs": [
    {
     "data": {
      "text/latex": [
       "$\\displaystyle 0.099668652491162$"
      ],
      "text/plain": [
       "0.0996686524911620"
      ]
     },
     "execution_count": 104,
     "metadata": {},
     "output_type": "execute_result"
    }
   ],
   "source": [
    "Res = sp.solve(dec, x)[0]\n",
    "Res"
   ]
  },
  {
   "cell_type": "markdown",
   "id": "1da08b84-3aaf-4b50-816f-8ec3e7d45c9a",
   "metadata": {},
   "source": [
    "Ahora analizamos el signo con la segunda derivada"
   ]
  },
  {
   "cell_type": "code",
   "execution_count": 109,
   "id": "c8d10cf3-4f81-448d-95be-0327b54019d3",
   "metadata": {},
   "outputs": [
    {
     "data": {
      "text/latex": [
       "$\\displaystyle \\frac{1.0}{0.1 \\sin{\\left(x \\right)} + \\cos{\\left(x \\right)}} + \\frac{1.0 \\left(\\sin{\\left(x \\right)} - 0.1 \\cos{\\left(x \\right)}\\right) \\left(2 \\sin{\\left(x \\right)} - 0.2 \\cos{\\left(x \\right)}\\right)}{\\left(0.1 \\sin{\\left(x \\right)} + \\cos{\\left(x \\right)}\\right)^{3}}$"
      ],
      "text/plain": [
       "1.0/(0.1*sin(x) + cos(x)) + 1.0*(sin(x) - 0.1*cos(x))*(2*sin(x) - 0.2*cos(x))/(0.1*sin(x) + cos(x))**3"
      ]
     },
     "execution_count": 109,
     "metadata": {},
     "output_type": "execute_result"
    }
   ],
   "source": [
    "dec2 = sp.diff(dec, x)\n",
    "df2 = sp.diff(dec, x)\n",
    "dec2"
   ]
  },
  {
   "cell_type": "markdown",
   "id": "fc647696-bc8e-4d0c-bdda-6ff9ca13378a",
   "metadata": {},
   "source": [
    "Despejamos para obtener y"
   ]
  },
  {
   "cell_type": "code",
   "execution_count": 112,
   "id": "15bcd352-d0c7-450c-839d-a394dad64325",
   "metadata": {},
   "outputs": [
    {
     "data": {
      "text/latex": [
       "$\\displaystyle 0.995037190209989$"
      ],
      "text/plain": [
       "0.995037190209989"
      ]
     },
     "execution_count": 112,
     "metadata": {},
     "output_type": "execute_result"
    }
   ],
   "source": [
    "Ec.subs(x,Res)"
   ]
  },
  {
   "cell_type": "code",
   "execution_count": null,
   "id": "78250222-d7a6-48af-8432-52343cc7777b",
   "metadata": {},
   "outputs": [],
   "source": []
  }
 ],
 "metadata": {
  "kernelspec": {
   "display_name": "Python 3 (ipykernel)",
   "language": "python",
   "name": "python3"
  },
  "language_info": {
   "codemirror_mode": {
    "name": "ipython",
    "version": 3
   },
   "file_extension": ".py",
   "mimetype": "text/x-python",
   "name": "python",
   "nbconvert_exporter": "python",
   "pygments_lexer": "ipython3",
   "version": "3.12.4"
  }
 },
 "nbformat": 4,
 "nbformat_minor": 5
}
