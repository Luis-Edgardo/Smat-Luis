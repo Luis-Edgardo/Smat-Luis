{
 "cells": [
  {
   "cell_type": "markdown",
   "id": "8105ede1-a923-48c9-af91-047040d48278",
   "metadata": {},
   "source": [
    "#  Tipos de variable"
   ]
  },
  {
   "cell_type": "markdown",
   "id": "faed4667-9194-4022-a0ac-212039744c1b",
   "metadata": {},
   "source": [
    "- Enteras 3\n",
    "- Flotantes 3.14\n",
    "- Funciones\n",
    "- Caracter \"a\"\n",
    "- Strings/Cadenas \"hola\"\n",
    "- Booleano True/False"
   ]
  },
  {
   "cell_type": "code",
   "execution_count": 16,
   "id": "6e9e0315-296e-421d-bf8a-ee9f6e4ea908",
   "metadata": {},
   "outputs": [
    {
     "data": {
      "text/plain": [
       "'hola'"
      ]
     },
     "execution_count": 16,
     "metadata": {},
     "output_type": "execute_result"
    }
   ],
   "source": [
    "pedro = \"hola\"\n",
    "\n",
    "pedro"
   ]
  },
  {
   "cell_type": "code",
   "execution_count": 18,
   "id": "3dd1ac1c-561e-4bd9-9b36-aaae5565457c",
   "metadata": {},
   "outputs": [
    {
     "name": "stdout",
     "output_type": "stream",
     "text": [
      "hola\n"
     ]
    }
   ],
   "source": [
    "print(pedro)"
   ]
  },
  {
   "cell_type": "code",
   "execution_count": 20,
   "id": "aeb7c95c-18dc-462f-aa60-3fcb493c9853",
   "metadata": {},
   "outputs": [
    {
     "data": {
      "text/plain": [
       "str"
      ]
     },
     "execution_count": 20,
     "metadata": {},
     "output_type": "execute_result"
    }
   ],
   "source": [
    "type(pedro)"
   ]
  },
  {
   "cell_type": "code",
   "execution_count": 23,
   "id": "339a6d1e-40a3-4169-b0cd-5a7a9c0a4962",
   "metadata": {},
   "outputs": [
    {
     "name": "stdout",
     "output_type": "stream",
     "text": [
      "True\n"
     ]
    },
    {
     "data": {
      "text/plain": [
       "bool"
      ]
     },
     "execution_count": 23,
     "metadata": {},
     "output_type": "execute_result"
    }
   ],
   "source": [
    "desayuno = True\n",
    "print(desayuno)\n",
    "type(desayuno)"
   ]
  },
  {
   "cell_type": "code",
   "execution_count": 25,
   "id": "6db924ff-3ef9-4002-8f73-bc448a440182",
   "metadata": {},
   "outputs": [
    {
     "name": "stdout",
     "output_type": "stream",
     "text": [
      "Morales\n"
     ]
    },
    {
     "data": {
      "text/plain": [
       "str"
      ]
     },
     "execution_count": 25,
     "metadata": {},
     "output_type": "execute_result"
    }
   ],
   "source": [
    "apellido = \"Morales\"\n",
    "print(apellido)\n",
    "type(apellido)"
   ]
  },
  {
   "cell_type": "markdown",
   "id": "3cc64018-a56c-49cb-b5da-c3981b437df6",
   "metadata": {},
   "source": [
    "# Operadores \n",
    "\n",
    "# Matemáticos\n",
    "\n",
    "$$ + $$\n",
    "$$ - $$\n",
    "$$ / $$\n",
    "$$ * $$\n",
    "$$ ** $$\n",
    "$$ % $$\n",
    "\n",
    "# Booleanos\n",
    "\n",
    "$$ > $$\n",
    "$$ < $$\n",
    "$$ >= $$\n",
    "$$ <= $$\n",
    "$$ != $$\n",
    "$$ == $$\n",
    "$$ && o and $$\n",
    "$$ || $$"
   ]
  },
  {
   "cell_type": "code",
   "execution_count": 61,
   "id": "61fa6a5f-605d-4954-a8e7-781667e4fbf6",
   "metadata": {},
   "outputs": [
    {
     "data": {
      "text/plain": [
       "3.3333333333333335"
      ]
     },
     "execution_count": 61,
     "metadata": {},
     "output_type": "execute_result"
    }
   ],
   "source": [
    "a = 10\n",
    "b = 3\n",
    "\n",
    "a/b"
   ]
  },
  {
   "cell_type": "code",
   "execution_count": 63,
   "id": "295dcdaa-4589-43ca-a761-f4d91c7bc044",
   "metadata": {},
   "outputs": [
    {
     "name": "stdout",
     "output_type": "stream",
     "text": [
      "Tu nombre es: Luis Alvarez\n"
     ]
    }
   ],
   "source": [
    "nombre = \"Luis\"\n",
    "apellido = \"Alvarez\"\n",
    "\n",
    "print(\"Tu nombre es: \"+ nombre +\" \"+ apellido)"
   ]
  },
  {
   "cell_type": "code",
   "execution_count": 67,
   "id": "bae8e477-82fa-48db-8056-0c389e51cc0b",
   "metadata": {},
   "outputs": [
    {
     "data": {
      "text/plain": [
       "False"
      ]
     },
     "execution_count": 67,
     "metadata": {},
     "output_type": "execute_result"
    }
   ],
   "source": [
    "a < b"
   ]
  },
  {
   "cell_type": "code",
   "execution_count": 69,
   "id": "ee383916-d440-49c5-8db0-743e293a13e9",
   "metadata": {},
   "outputs": [
    {
     "data": {
      "text/plain": [
       "True"
      ]
     },
     "execution_count": 69,
     "metadata": {},
     "output_type": "execute_result"
    }
   ],
   "source": [
    "a > b"
   ]
  },
  {
   "cell_type": "code",
   "execution_count": 77,
   "id": "0b3261a7-b6df-439b-9c1a-2084a67d0e36",
   "metadata": {},
   "outputs": [
    {
     "data": {
      "text/plain": [
       "True"
      ]
     },
     "execution_count": 77,
     "metadata": {},
     "output_type": "execute_result"
    }
   ],
   "source": [
    "apellido != \"Ordoñez\""
   ]
  },
  {
   "cell_type": "code",
   "execution_count": 79,
   "id": "5fe48e6a-a363-4563-87ec-db5c4351a140",
   "metadata": {},
   "outputs": [
    {
     "data": {
      "text/plain": [
       "False"
      ]
     },
     "execution_count": 79,
     "metadata": {},
     "output_type": "execute_result"
    }
   ],
   "source": [
    "apellido == \"Ordoñez\""
   ]
  },
  {
   "cell_type": "markdown",
   "id": "bb5e339b-6603-4233-8ed8-617a0c15dc60",
   "metadata": {},
   "source": [
    "# Control de flujo"
   ]
  },
  {
   "cell_type": "code",
   "execution_count": 95,
   "id": "34315acf-698e-4be9-8932-8d54aeea243b",
   "metadata": {},
   "outputs": [
    {
     "name": "stdout",
     "output_type": "stream",
     "text": [
      "La variable a sí es múltiplo de 12\n"
     ]
    }
   ],
   "source": [
    "# Inicio\n",
    "\n",
    "a = 144\n",
    "b = 12\n",
    "\n",
    "if (a % b == 0) :\n",
    "    print(\"La variable a sí es múltiplo de \" + str(b))\n",
    "else :\n",
    "    print(\"La variable a no es múltiplo de \" + str(b))\n"
   ]
  },
  {
   "cell_type": "code",
   "execution_count": 2,
   "id": "dd1d3120-0950-47a3-a08e-817f3c20a8d5",
   "metadata": {},
   "outputs": [
    {
     "name": "stdout",
     "output_type": "stream",
     "text": [
      "b no puede ser 0\n"
     ]
    }
   ],
   "source": [
    "# Inicio\n",
    "\n",
    "a = 88\n",
    "b = 0\n",
    "\n",
    "if (b != 0) :\n",
    "    if (a % b == 0) :\n",
    "        print(\"La variable a sí es múltiplo de \" + str(b))\n",
    "    else :\n",
    "        print(\"La variable a no es múltiplo de \" + str(b))\n",
    "else :\n",
    "    print(\"b no puede ser 0\")\n",
    "\n"
   ]
  },
  {
   "cell_type": "code",
   "execution_count": 4,
   "id": "e5c873b7-f567-42ae-99b0-9221c0cadb3c",
   "metadata": {},
   "outputs": [
    {
     "name": "stdout",
     "output_type": "stream",
     "text": [
      "0\n",
      "1\n",
      "2\n",
      "3\n",
      "4\n",
      "5\n",
      "6\n",
      "7\n",
      "8\n",
      "9\n",
      "10\n"
     ]
    }
   ],
   "source": [
    "# Inicio\n",
    "\n",
    "a = 10\n",
    "i = 0\n",
    "while(i <= a) :\n",
    "    print(i)\n",
    "    i += 1"
   ]
  },
  {
   "cell_type": "code",
   "execution_count": 33,
   "id": "52920396-f81b-4eca-810a-70c1cfed01e6",
   "metadata": {
    "scrolled": true
   },
   "outputs": [
    {
     "name": "stdout",
     "output_type": "stream",
     "text": [
      "120\n"
     ]
    }
   ],
   "source": [
    "# Inicio\n",
    "\n",
    "a = 5\n",
    "b = 1\n",
    "while(a > 1) :\n",
    "    b*=a \n",
    "    a-=1\n",
    "\n",
    "print(b)"
   ]
  },
  {
   "cell_type": "markdown",
   "id": "f25439d9-24db-459a-b548-30b96bccdcad",
   "metadata": {},
   "source": [
    "![](Diagrama1.jpg)"
   ]
  },
  {
   "cell_type": "code",
   "execution_count": 31,
   "id": "ad373278-c19d-4151-ade4-0d9852311844",
   "metadata": {},
   "outputs": [
    {
     "name": "stdout",
     "output_type": "stream",
     "text": [
      "Tu numero no es primo\n"
     ]
    }
   ],
   "source": [
    "# Inicio\n",
    "\n",
    "a = 24\n",
    "\n",
    "if a < 2 : \n",
    "    print(\"Tu número no es primo\")\n",
    "elif a==2 :\n",
    "    print(\"Tu numero es primo\")\n",
    "elif (a % 2 == 0) or (a % 3 == 0):\n",
    "        print(\"Tu numero no es primo\")\n",
    "else:\n",
    "    print(\"Tu numero es primo\")\n",
    "\n",
    "\n"
   ]
  },
  {
   "cell_type": "markdown",
   "id": "ead3e051-5f30-4445-84df-b9b77a966dd9",
   "metadata": {},
   "source": [
    "![](Diagrama2.jpg)"
   ]
  },
  {
   "cell_type": "code",
   "execution_count": null,
   "id": "9513d6d9-5273-477f-8981-cbe553b4ed4f",
   "metadata": {},
   "outputs": [],
   "source": []
  }
 ],
 "metadata": {
  "kernelspec": {
   "display_name": "Python 3 (ipykernel)",
   "language": "python",
   "name": "python3"
  },
  "language_info": {
   "codemirror_mode": {
    "name": "ipython",
    "version": 3
   },
   "file_extension": ".py",
   "mimetype": "text/x-python",
   "name": "python",
   "nbconvert_exporter": "python",
   "pygments_lexer": "ipython3",
   "version": "3.12.4"
  }
 },
 "nbformat": 4,
 "nbformat_minor": 5
}
